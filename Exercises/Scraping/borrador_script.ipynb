{
 "cells": [
  {
   "cell_type": "markdown",
   "metadata": {},
   "source": [
    "### Install"
   ]
  },
  {
   "cell_type": "code",
   "execution_count": 47,
   "metadata": {},
   "outputs": [],
   "source": [
    "# pip install requests beautifulsoup4\n"
   ]
  },
  {
   "cell_type": "code",
   "execution_count": 48,
   "metadata": {},
   "outputs": [],
   "source": [
    "# pip install pandas"
   ]
  },
  {
   "cell_type": "code",
   "execution_count": 66,
   "metadata": {},
   "outputs": [],
   "source": [
    "# pip install selenium\n"
   ]
  },
  {
   "cell_type": "code",
   "execution_count": 71,
   "metadata": {},
   "outputs": [],
   "source": [
    "#pip install html.parser"
   ]
  },
  {
   "cell_type": "markdown",
   "metadata": {},
   "source": [
    "### Code"
   ]
  },
  {
   "cell_type": "code",
   "execution_count": 1,
   "metadata": {},
   "outputs": [],
   "source": [
    "import requests\n",
    "from bs4 import BeautifulSoup\n",
    "import random\n",
    "import pandas as pd"
   ]
  },
  {
   "cell_type": "code",
   "execution_count": 2,
   "metadata": {},
   "outputs": [],
   "source": [
    "title = \"Data Analytics\"\n",
    "location = \"Colombia\""
   ]
  },
  {
   "cell_type": "code",
   "execution_count": 3,
   "metadata": {},
   "outputs": [],
   "source": [
    "list_url = \"https://www.linkedin.com/jobs-guest/jobs/api/seeMoreJobPostings/search?keywords=analista%2Bde%2Bdatos&location=colombia&start=50\"\n",
    "response = requests.get(list_url)\n",
    "\n",
    "#https://www.linkedin.com/jobs-guest/jobs/api/seeMoreJobPostings/search?keywords=analista%2Bde%2Bdatos&location=colombia&geoId=&trk=public_jobs_jobs-search-bar_search-submit&start=25\n",
    "\n",
    "list_data = response.text \n",
    "list_soup = BeautifulSoup(list_data, \"html.parser\")\n",
    "page_jobs = list_soup.find_all(\"li\")"
   ]
  },
  {
   "cell_type": "code",
   "execution_count": 5,
   "metadata": {},
   "outputs": [
    {
     "name": "stdout",
     "output_type": "stream",
     "text": [
      "4086408163\n",
      "4108538208\n",
      "4002077821\n",
      "4041034687\n",
      "4119851550\n",
      "4106881698\n",
      "4122014702\n",
      "4113253836\n",
      "4119956692\n",
      "4119060699\n"
     ]
    }
   ],
   "source": [
    "id_list = []\n",
    "\n",
    "for job in page_jobs:\n",
    "    base_card_div = job.find(\"div\", {\"class\": \"base-card\"})\n",
    "    job_id = base_card_div.get(\"data-entity-urn\").split(\":\")[3]\n",
    "    print(job_id)\n",
    "    id_list.append(job_id)"
   ]
  },
  {
   "cell_type": "code",
   "execution_count": 6,
   "metadata": {},
   "outputs": [
    {
     "data": {
      "text/plain": [
       "['4086408163',\n",
       " '4108538208',\n",
       " '4002077821',\n",
       " '4041034687',\n",
       " '4119851550',\n",
       " '4106881698',\n",
       " '4122014702',\n",
       " '4113253836',\n",
       " '4119956692',\n",
       " '4119060699']"
      ]
     },
     "execution_count": 6,
     "metadata": {},
     "output_type": "execute_result"
    }
   ],
   "source": [
    "id_list"
   ]
  },
  {
   "cell_type": "code",
   "execution_count": 7,
   "metadata": {},
   "outputs": [
    {
     "data": {
      "text/plain": [
       "<div class=\"base-card relative w-full hover:no-underline focus:no-underline base-card--link base-search-card base-search-card--link job-search-card\" data-column=\"1\" data-entity-urn=\"urn:li:jobPosting:4119060699\" data-impression-id=\"jobs-search-result-9\" data-reference-id=\"PtxL4dLg47pDD8W1aH5DJw==\" data-row=\"60\" data-tracking-id=\"UoRmOFzumQzDXQIPpQ9OcQ==\">\n",
       "<a class=\"base-card__full-link absolute top-0 right-0 bottom-0 left-0 p-0 z-[2]\" data-tracking-client-ingraph=\"\" data-tracking-control-name=\"public_jobs_jserp-result_search-card\" data-tracking-will-navigate=\"\" href=\"https://co.linkedin.com/jobs/view/analista-de-datos-at-empleamos-temporales-sas-4119060699?position=10&amp;pageNum=5&amp;refId=PtxL4dLg47pDD8W1aH5DJw%3D%3D&amp;trackingId=UoRmOFzumQzDXQIPpQ9OcQ%3D%3D\">\n",
       "<span class=\"sr-only\">\n",
       "              \n",
       "        \n",
       "        Analista de datos\n",
       "      \n",
       "      \n",
       "          </span>\n",
       "</a>\n",
       "<div class=\"search-entity-media\">\n",
       "<img alt=\"\" class=\"artdeco-entity-image artdeco-entity-image--square-4\" data-delayed-url=\"https://media.licdn.com/dms/image/v2/D4E0BAQFHbrrF8xbYjg/company-logo_100_100/company-logo_100_100/0/1684528888876/empleamos_temporales_sas_logo?e=2147483647&amp;v=beta&amp;t=9dQzPNngZf7Y5WLv_X2UQXsYksjtD-_k56qdUDxOR4o\" data-ghost-classes=\"artdeco-entity-image--ghost\" data-ghost-url=\"https://static.licdn.com/aero-v1/sc/h/6puxblwmhnodu6fjircz4dn4h\"/>\n",
       "</div>\n",
       "<div class=\"base-search-card__info\">\n",
       "<h3 class=\"base-search-card__title\">\n",
       "            \n",
       "        Analista de datos\n",
       "      \n",
       "          </h3>\n",
       "<h4 class=\"base-search-card__subtitle\">\n",
       "<a class=\"hidden-nested-link\" data-tracking-client-ingraph=\"\" data-tracking-control-name=\"public_jobs_jserp-result_job-search-card-subtitle\" data-tracking-will-navigate=\"\" href=\"https://co.linkedin.com/company/empleamos-temporales-sas?trk=public_jobs_jserp-result_job-search-card-subtitle\">\n",
       "            Empleamos Temporales SAS\n",
       "          </a>\n",
       "</h4>\n",
       "<!-- -->\n",
       "<div class=\"base-search-card__metadata\">\n",
       "<span class=\"job-search-card__location\">\n",
       "            Bogota, D.C., Capital District, Colombia\n",
       "          </span>\n",
       "<!-- -->\n",
       "<time class=\"job-search-card__listdate\" datetime=\"2025-01-07\">\n",
       "            \n",
       "\n",
       "    \n",
       "    \n",
       "    \n",
       "    \n",
       "    \n",
       "    \n",
       "    \n",
       "    \n",
       "    \n",
       "    \n",
       "    \n",
       "    \n",
       "    \n",
       "    \n",
       "    \n",
       "    \n",
       "\n",
       "    \n",
       "    \n",
       "    \n",
       "    \n",
       "    \n",
       "    \n",
       "    \n",
       "    \n",
       "    \n",
       "    \n",
       "    \n",
       "    \n",
       "    \n",
       "    \n",
       "\n",
       "      2 days ago\n",
       "  \n",
       "          </time>\n",
       "<!-- -->\n",
       "</div>\n",
       "</div>\n",
       "<!-- -->\n",
       "</div>"
      ]
     },
     "execution_count": 7,
     "metadata": {},
     "output_type": "execute_result"
    }
   ],
   "source": [
    "base_card_div"
   ]
  },
  {
   "cell_type": "code",
   "execution_count": 9,
   "metadata": {},
   "outputs": [
    {
     "data": {
      "text/plain": [
       "<Response [200]>"
      ]
     },
     "execution_count": 9,
     "metadata": {},
     "output_type": "execute_result"
    }
   ],
   "source": [
    "response"
   ]
  },
  {
   "cell_type": "code",
   "execution_count": 10,
   "metadata": {},
   "outputs": [
    {
     "data": {
      "text/plain": [
       "'<!DOCTYPE html>\\n\\n      <li>\\n        \\n    \\n\\n    \\n    \\n    \\n      <div class=\"base-card relative w-full hover:no-underline focus:no-underline base-card--link base-search-card base-search-card--link job-search-card\" data-entity-urn=\"urn:li:jobPosting:4086408163\" data-impression-id=\"jobs-search-result-0\" data-reference-id=\"PtxL4dLg47pDD8W1aH5DJw==\" data-tracking-id=\"XZnmnbIZs8ijKFebR3jePQ==\" data-column=\"1\" data-row=\"51\">\\n        \\n\\n        <a class=\"base-card__full-link absolute top-0 right-0 bottom-0 left-0 p-0 z-[2]\" href=\"https://co.linkedin.com/jobs/view/profesional-de-datos-at-marval-s-a-4086408163?position=1&amp;pageNum=5&amp;refId=PtxL4dLg47pDD8W1aH5DJw%3D%3D&amp;trackingId=XZnmnbIZs8ijKFebR3jePQ%3D%3D\" data-tracking-control-name=\"public_jobs_jserp-result_search-card\" data-tracking-client-ingraph data-tracking-will-navigate>\\n          \\n          <span class=\"sr-only\">\\n              \\n        \\n        Profesional de Datos\\n      \\n      \\n          </span>\\n        </a>\\n\\n      \\n        \\n    <div class=\"search-entity-media\">\\n        \\n      <img class=\"artdeco-entity-image artdeco-entity-image--square-4\\n          \" data-delayed-url=\"https://media.licdn.com/dms/image/v2/C4E0BAQHH3VEjWjKXhw/company-logo_100_100/company-logo_100_100/0/1630655429403/marval_s_a__logo?e=2147483647&amp;v=beta&amp;t=EoJQgKVdcq0b96sazSVPiITB2mzmBwymz4xruHVXCR4\" data-ghost-classes=\"artdeco-entity-image--ghost\" data-ghost-url=\"https://static.licdn.com/aero-v1/sc/h/6puxblwmhnodu6fjircz4dn4h\" alt>\\n  \\n    </div>\\n  \\n\\n        <div class=\"base-search-card__info\">\\n          <h3 class=\"base-search-card__title\">\\n            \\n        Profesional de Datos\\n      \\n          </h3>\\n\\n            <h4 class=\"base-search-card__subtitle\">\\n              \\n          <a class=\"hidden-nested-link\" data-tracking-client-ingraph data-tracking-control-name=\"public_jobs_jserp-result_job-search-card-subtitle\" data-tracking-will-navigate href=\"https://co.linkedin.com/company/marval-s-a-s?trk=public_jobs_jserp-result_job-search-card-subtitle\">\\n            MARVAL S.A.\\n          </a>\\n      \\n            </h4>\\n\\n<!---->\\n            <div class=\"base-search-card__metadata\">\\n              \\n          <span class=\"job-search-card__location\">\\n            Bogota, D.C., Capital District, Colombia\\n          </span>\\n\\n        \\n    \\n    \\n    \\n    \\n\\n      <div class=\"job-posting-benefits text-sm\">\\n        <icon class=\"job-posting-benefits__icon\" data-delayed-url=\"https://static.licdn.com/aero-v1/sc/h/3p1v0uhy7uq0cm5zdvzp4eo18\" data-svg-class-name=\"job-posting-benefits__icon-svg\"></icon>\\n        <span class=\"job-posting-benefits__text\">\\n          Actively Hiring\\n<!---->        </span>\\n      </div>\\n  \\n\\n          <time class=\"job-search-card__listdate\" datetime=\"2024-11-27\">\\n            \\n\\n    \\n    \\n    \\n    \\n    \\n    \\n    \\n    \\n    \\n    \\n    \\n    \\n    \\n    \\n    \\n    \\n\\n    \\n    \\n    \\n    \\n    \\n    \\n    \\n    \\n    \\n    \\n    \\n    \\n    \\n    \\n\\n      1 month ago\\n  \\n          </time>\\n\\n<!---->      \\n            </div>\\n        </div>\\n<!---->      \\n    \\n      </div>\\n  \\n  \\n  \\n  \\n      </li>\\n      <li>\\n        \\n    \\n\\n    \\n    \\n    \\n      <div class=\"base-card relative w-full hover:no-underline focus:no-underline base-card--link base-search-card base-search-card--link job-search-card\" data-entity-urn=\"urn:li:jobPosting:4108538208\" data-impression-id=\"jobs-search-result-1\" data-reference-id=\"PtxL4dLg47pDD8W1aH5DJw==\" data-tracking-id=\"IkK97QabgrjQkldrBaM7VA==\" data-column=\"1\" data-row=\"52\">\\n        \\n\\n        <a class=\"base-card__full-link absolute top-0 right-0 bottom-0 left-0 p-0 z-[2]\" href=\"https://co.linkedin.com/jobs/view/data-analyst-at-antenna-4108538208?position=2&amp;pageNum=5&amp;refId=PtxL4dLg47pDD8W1aH5DJw%3D%3D&amp;trackingId=IkK97QabgrjQkldrBaM7VA%3D%3D\" data-tracking-control-name=\"public_jobs_jserp-result_search-card\" data-tracking-client-ingraph data-tracking-will-navigate>\\n          \\n          <span class=\"sr-only\">\\n              \\n        \\n        Data Analyst\\n      \\n      \\n          </span>\\n        </a>\\n\\n      \\n        \\n    <div class=\"search-entity-media\">\\n        \\n      <img class=\"artdeco-entity-image artdeco-entity-image--square-4\\n          \" data-delayed-url=\"https://media.licdn.com/dms/image/v2/C560BAQHu8zcna3Rj8A/company-logo_100_100/company-logo_100_100/0/1635623313685/antennadata_logo?e=2147483647&amp;v=beta&amp;t=otyRpR3zgEbl6e-PYm-1y3UtCGTbqInq7VawF71jo9g\" data-ghost-classes=\"artdeco-entity-image--ghost\" data-ghost-url=\"https://static.licdn.com/aero-v1/sc/h/6puxblwmhnodu6fjircz4dn4h\" alt>\\n  \\n    </div>\\n  \\n\\n        <div class=\"base-search-card__info\">\\n          <h3 class=\"base-search-card__title\">\\n            \\n        Data Analyst\\n      \\n          </h3>\\n\\n            <h4 class=\"base-search-card__subtitle\">\\n              \\n          <a class=\"hidden-nested-link\" data-tracking-client-ingraph data-tracking-control-name=\"public_jobs_jserp-result_job-search-card-subtitle\" data-tracking-will-navigate href=\"https://www.linkedin.com/company/antennadata?trk=public_jobs_jserp-result_job-search-card-subtitle\">\\n            Antenna\\n          </a>\\n      \\n            </h4>\\n\\n<!---->\\n            <div class=\"base-search-card__metadata\">\\n              \\n          <span class=\"job-search-card__location\">\\n            Bogota, D.C., Capital District, Colombia\\n          </span>\\n\\n        \\n    \\n    \\n    \\n    \\n\\n<!---->  \\n\\n          <time class=\"job-search-card__listdate\" datetime=\"2024-12-23\">\\n            \\n\\n    \\n    \\n    \\n    \\n    \\n    \\n    \\n    \\n    \\n    \\n    \\n    \\n    \\n    \\n    \\n    \\n\\n    \\n    \\n    \\n    \\n    \\n    \\n    \\n    \\n    \\n    \\n    \\n    \\n    \\n    \\n\\n      2 weeks ago\\n  \\n          </time>\\n\\n<!---->      \\n            </div>\\n        </div>\\n<!---->      \\n    \\n      </div>\\n  \\n  \\n  \\n  \\n      </li>\\n      <li>\\n        \\n    \\n\\n    \\n    \\n    \\n      <div class=\"base-card relative w-full hover:no-underline focus:no-underline base-card--link base-search-card base-search-card--link job-search-card\" data-entity-urn=\"urn:li:jobPosting:4002077821\" data-impression-id=\"jobs-search-result-2\" data-reference-id=\"PtxL4dLg47pDD8W1aH5DJw==\" data-tracking-id=\"H2hwCztQdSAhZ3nqSJFALA==\" data-column=\"1\" data-row=\"53\">\\n        \\n\\n        <a class=\"base-card__full-link absolute top-0 right-0 bottom-0 left-0 p-0 z-[2]\" href=\"https://co.linkedin.com/jobs/view/analista-de-datos-at-fundaci%C3%B3n-cardiovascular-de-colombia-4002077821?position=3&amp;pageNum=5&amp;refId=PtxL4dLg47pDD8W1aH5DJw%3D%3D&amp;trackingId=H2hwCztQdSAhZ3nqSJFALA%3D%3D\" data-tracking-control-name=\"public_jobs_jserp-result_search-card\" data-tracking-client-ingraph data-tracking-will-navigate>\\n          \\n          <span class=\"sr-only\">\\n              \\n        \\n        Analista de Datos\\n      \\n      \\n          </span>\\n        </a>\\n\\n      \\n        \\n    <div class=\"search-entity-media\">\\n        \\n      <img class=\"artdeco-entity-image artdeco-entity-image--square-4\\n          \" data-delayed-url=\"https://media.licdn.com/dms/image/v2/D4E0BAQENyxmDfEbvNg/company-logo_100_100/company-logo_100_100/0/1683818025490?e=2147483647&amp;v=beta&amp;t=v7hmpQ7DITljgIEQxK28Asq0alTD4k4E-GhRNtrO9j4\" data-ghost-classes=\"artdeco-entity-image--ghost\" data-ghost-url=\"https://static.licdn.com/aero-v1/sc/h/6puxblwmhnodu6fjircz4dn4h\" alt>\\n  \\n    </div>\\n  \\n\\n        <div class=\"base-search-card__info\">\\n          <h3 class=\"base-search-card__title\">\\n            \\n        Analista de Datos\\n      \\n          </h3>\\n\\n            <h4 class=\"base-search-card__subtitle\">\\n              \\n          <a class=\"hidden-nested-link\" data-tracking-client-ingraph data-tracking-control-name=\"public_jobs_jserp-result_job-search-card-subtitle\" data-tracking-will-navigate href=\"https://co.linkedin.com/company/fcvcolombia?trk=public_jobs_jserp-result_job-search-card-subtitle\">\\n            Fundación Cardiovascular de Colombia\\n          </a>\\n      \\n            </h4>\\n\\n<!---->\\n            <div class=\"base-search-card__metadata\">\\n              \\n          <span class=\"job-search-card__location\">\\n            Floridablanca, Santander, Colombia\\n          </span>\\n\\n        \\n    \\n    \\n    \\n    \\n\\n<!---->  \\n\\n          <time class=\"job-search-card__listdate\" datetime=\"2024-08-15\">\\n            \\n\\n    \\n    \\n    \\n    \\n    \\n    \\n    \\n    \\n    \\n    \\n    \\n    \\n    \\n    \\n    \\n    \\n\\n    \\n    \\n    \\n    \\n    \\n    \\n    \\n    \\n    \\n    \\n    \\n    \\n    \\n    \\n\\n      4 months ago\\n  \\n          </time>\\n\\n<!---->      \\n            </div>\\n        </div>\\n<!---->      \\n    \\n      </div>\\n  \\n  \\n  \\n  \\n      </li>\\n      <li>\\n        \\n    \\n\\n    \\n    \\n    \\n      <div class=\"base-card relative w-full hover:no-underline focus:no-underline base-card--link base-search-card base-search-card--link job-search-card\" data-entity-urn=\"urn:li:jobPosting:4041034687\" data-impression-id=\"jobs-search-result-3\" data-reference-id=\"PtxL4dLg47pDD8W1aH5DJw==\" data-tracking-id=\"8pz15iJOOFvoMv+kG6hSWQ==\" data-column=\"1\" data-row=\"54\">\\n        \\n\\n        <a class=\"base-card__full-link absolute top-0 right-0 bottom-0 left-0 p-0 z-[2]\" href=\"https://co.linkedin.com/jobs/view/profesional-anal%C3%ADtica-de-datos-e-inteligencia-de-negocios-at-constructora-capital-4041034687?position=4&amp;pageNum=5&amp;refId=PtxL4dLg47pDD8W1aH5DJw%3D%3D&amp;trackingId=8pz15iJOOFvoMv%2BkG6hSWQ%3D%3D\" data-tracking-control-name=\"public_jobs_jserp-result_search-card\" data-tracking-client-ingraph data-tracking-will-navigate>\\n          \\n          <span class=\"sr-only\">\\n              \\n        \\n        Profesional analítica de datos e inteligencia de negocios\\n      \\n      \\n          </span>\\n        </a>\\n\\n      \\n        \\n    <div class=\"search-entity-media\">\\n        \\n      <img class=\"artdeco-entity-image artdeco-entity-image--square-4\\n          \" data-delayed-url=\"https://media.licdn.com/dms/image/v2/C4E0BAQEahdAzwLct_w/company-logo_100_100/company-logo_100_100/0/1633699002549/constructora_capital_med_bog_logo?e=2147483647&amp;v=beta&amp;t=Y5qNjoC-EhplDZU79cn89IlQ4_N-8nDFs1ciwHmpep8\" data-ghost-classes=\"artdeco-entity-image--ghost\" data-ghost-url=\"https://static.licdn.com/aero-v1/sc/h/6puxblwmhnodu6fjircz4dn4h\" alt>\\n  \\n    </div>\\n  \\n\\n        <div class=\"base-search-card__info\">\\n          <h3 class=\"base-search-card__title\">\\n            \\n        Profesional analítica de datos e inteligencia de negocios\\n      \\n          </h3>\\n\\n            <h4 class=\"base-search-card__subtitle\">\\n              \\n          <a class=\"hidden-nested-link\" data-tracking-client-ingraph data-tracking-control-name=\"public_jobs_jserp-result_job-search-card-subtitle\" data-tracking-will-navigate href=\"https://co.linkedin.com/company/constructora-capital-med-bog?trk=public_jobs_jserp-result_job-search-card-subtitle\">\\n            Constructora Capital\\n          </a>\\n      \\n            </h4>\\n\\n<!---->\\n            <div class=\"base-search-card__metadata\">\\n              \\n          <span class=\"job-search-card__location\">\\n            Medellín, Antioquia, Colombia\\n          </span>\\n\\n        \\n    \\n    \\n    \\n    \\n\\n<!---->  \\n\\n          <time class=\"job-search-card__listdate\" datetime=\"2024-10-04\">\\n            \\n\\n    \\n    \\n    \\n    \\n    \\n    \\n    \\n    \\n    \\n    \\n    \\n    \\n    \\n    \\n    \\n    \\n\\n    \\n    \\n    \\n    \\n    \\n    \\n    \\n    \\n    \\n    \\n    \\n    \\n    \\n    \\n\\n      3 months ago\\n  \\n          </time>\\n\\n<!---->      \\n            </div>\\n        </div>\\n<!---->      \\n    \\n      </div>\\n  \\n  \\n  \\n  \\n      </li>\\n      <li>\\n        \\n    \\n\\n    \\n    \\n    \\n      <div class=\"base-card relative w-full hover:no-underline focus:no-underline base-card--link base-search-card base-search-card--link job-search-card\" data-entity-urn=\"urn:li:jobPosting:4119851550\" data-impression-id=\"jobs-search-result-4\" data-reference-id=\"PtxL4dLg47pDD8W1aH5DJw==\" data-tracking-id=\"mvlKSJ7Q/IHO0Z87bdwUjg==\" data-column=\"1\" data-row=\"55\">\\n        \\n\\n        <a class=\"base-card__full-link absolute top-0 right-0 bottom-0 left-0 p-0 z-[2]\" href=\"https://co.linkedin.com/jobs/view/data-analyst-at-emapta-global-4119851550?position=5&amp;pageNum=5&amp;refId=PtxL4dLg47pDD8W1aH5DJw%3D%3D&amp;trackingId=mvlKSJ7Q%2FIHO0Z87bdwUjg%3D%3D\" data-tracking-control-name=\"public_jobs_jserp-result_search-card\" data-tracking-client-ingraph data-tracking-will-navigate>\\n          \\n          <span class=\"sr-only\">\\n              \\n        \\n        Data Analyst\\n      \\n      \\n          </span>\\n        </a>\\n\\n      \\n        \\n    <div class=\"search-entity-media\">\\n        \\n      <img class=\"artdeco-entity-image artdeco-entity-image--square-4\\n          \" data-delayed-url=\"https://media.licdn.com/dms/image/v2/D560BAQH4RIeVeVsuTw/company-logo_100_100/company-logo_100_100/0/1729261352110/emaptaglobal_logo?e=2147483647&amp;v=beta&amp;t=2cQoEX9KIF-81hKUKp9VwwJ7aQA-3l51tUtKaONHXcY\" data-ghost-classes=\"artdeco-entity-image--ghost\" data-ghost-url=\"https://static.licdn.com/aero-v1/sc/h/6puxblwmhnodu6fjircz4dn4h\" alt>\\n  \\n    </div>\\n  \\n\\n        <div class=\"base-search-card__info\">\\n          <h3 class=\"base-search-card__title\">\\n            \\n        Data Analyst\\n      \\n          </h3>\\n\\n            <h4 class=\"base-search-card__subtitle\">\\n              \\n          <a class=\"hidden-nested-link\" data-tracking-client-ingraph data-tracking-control-name=\"public_jobs_jserp-result_job-search-card-subtitle\" data-tracking-will-navigate href=\"https://ph.linkedin.com/company/emaptaglobal?trk=public_jobs_jserp-result_job-search-card-subtitle\">\\n            Emapta Global\\n          </a>\\n      \\n            </h4>\\n\\n<!---->\\n            <div class=\"base-search-card__metadata\">\\n              \\n          <span class=\"job-search-card__location\">\\n            Bogota, D.C., Capital District, Colombia\\n          </span>\\n\\n        \\n    \\n    \\n    \\n    \\n\\n      <div class=\"job-posting-benefits text-sm\">\\n        <icon class=\"job-posting-benefits__icon\" data-delayed-url=\"https://static.licdn.com/aero-v1/sc/h/3p1v0uhy7uq0cm5zdvzp4eo18\" data-svg-class-name=\"job-posting-benefits__icon-svg\"></icon>\\n        <span class=\"job-posting-benefits__text\">\\n          Actively Hiring\\n<!---->        </span>\\n      </div>\\n  \\n\\n          <time class=\"job-search-card__listdate--new\" datetime=\"2025-01-09\">\\n            \\n\\n    \\n    \\n    \\n    \\n    \\n    \\n    \\n    \\n    \\n    \\n    \\n    \\n    \\n    \\n    \\n    \\n\\n    \\n    \\n    \\n    \\n    \\n    \\n    \\n    \\n    \\n    \\n    \\n    \\n    \\n    \\n\\n      22 hours ago\\n  \\n          </time>\\n\\n<!---->      \\n            </div>\\n        </div>\\n<!---->      \\n    \\n      </div>\\n  \\n  \\n  \\n  \\n      </li>\\n      <li>\\n        \\n    \\n\\n    \\n    \\n    \\n      <div class=\"base-card relative w-full hover:no-underline focus:no-underline base-card--link base-search-card base-search-card--link job-search-card\" data-entity-urn=\"urn:li:jobPosting:4106881698\" data-impression-id=\"jobs-search-result-5\" data-reference-id=\"PtxL4dLg47pDD8W1aH5DJw==\" data-tracking-id=\"/uH26gnr6shin+hOX+WBRQ==\" data-column=\"1\" data-row=\"56\">\\n        \\n\\n        <a class=\"base-card__full-link absolute top-0 right-0 bottom-0 left-0 p-0 z-[2]\" href=\"https://co.linkedin.com/jobs/view/audience-analyst-data-analytics-martech-at-globant-4106881698?position=6&amp;pageNum=5&amp;refId=PtxL4dLg47pDD8W1aH5DJw%3D%3D&amp;trackingId=%2FuH26gnr6shin%2BhOX%2BWBRQ%3D%3D\" data-tracking-control-name=\"public_jobs_jserp-result_search-card\" data-tracking-client-ingraph data-tracking-will-navigate>\\n          \\n          <span class=\"sr-only\">\\n              \\n        \\n        Audience Analyst - Data, Analytics &amp; Martech\\n      \\n      \\n          </span>\\n        </a>\\n\\n      \\n        \\n    <div class=\"search-entity-media\">\\n        \\n      <img class=\"artdeco-entity-image artdeco-entity-image--square-4\\n          \" data-delayed-url=\"https://media.licdn.com/dms/image/v2/D4D0BAQHupr1U3gIQKA/company-logo_100_100/company-logo_100_100/0/1719839010650/globant_logo?e=2147483647&amp;v=beta&amp;t=cnVqgncFTu2OSAYyxTuyXBl9ZCL8NyWDh9IT5bkgwBE\" data-ghost-classes=\"artdeco-entity-image--ghost\" data-ghost-url=\"https://static.licdn.com/aero-v1/sc/h/6puxblwmhnodu6fjircz4dn4h\" alt>\\n  \\n    </div>\\n  \\n\\n        <div class=\"base-search-card__info\">\\n          <h3 class=\"base-search-card__title\">\\n            \\n        Audience Analyst - Data, Analytics &amp; Martech\\n      \\n          </h3>\\n\\n            <h4 class=\"base-search-card__subtitle\">\\n              \\n          <a class=\"hidden-nested-link\" data-tracking-client-ingraph data-tracking-control-name=\"public_jobs_jserp-result_job-search-card-subtitle\" data-tracking-will-navigate href=\"https://www.linkedin.com/company/globant?trk=public_jobs_jserp-result_job-search-card-subtitle\">\\n            Globant\\n          </a>\\n      \\n            </h4>\\n\\n<!---->\\n            <div class=\"base-search-card__metadata\">\\n              \\n          <span class=\"job-search-card__location\">\\n            Bogota, D.C., Capital District, Colombia\\n          </span>\\n\\n        \\n    \\n    \\n    \\n    \\n\\n      <div class=\"job-posting-benefits text-sm\">\\n        <icon class=\"job-posting-benefits__icon\" data-delayed-url=\"https://static.licdn.com/aero-v1/sc/h/3p1v0uhy7uq0cm5zdvzp4eo18\" data-svg-class-name=\"job-posting-benefits__icon-svg\"></icon>\\n        <span class=\"job-posting-benefits__text\">\\n          Actively Hiring\\n<!---->        </span>\\n      </div>\\n  \\n\\n          <time class=\"job-search-card__listdate\" datetime=\"2024-12-23\">\\n            \\n\\n    \\n    \\n    \\n    \\n    \\n    \\n    \\n    \\n    \\n    \\n    \\n    \\n    \\n    \\n    \\n    \\n\\n    \\n    \\n    \\n    \\n    \\n    \\n    \\n    \\n    \\n    \\n    \\n    \\n    \\n    \\n\\n      2 weeks ago\\n  \\n          </time>\\n\\n<!---->      \\n            </div>\\n        </div>\\n<!---->      \\n    \\n      </div>\\n  \\n  \\n  \\n  \\n      </li>\\n      <li>\\n        \\n    \\n\\n    \\n    \\n    \\n      <div class=\"base-card relative w-full hover:no-underline focus:no-underline base-card--link base-search-card base-search-card--link job-search-card\" data-entity-urn=\"urn:li:jobPosting:4122014702\" data-impression-id=\"jobs-search-result-6\" data-reference-id=\"PtxL4dLg47pDD8W1aH5DJw==\" data-tracking-id=\"alMAJ27Hq4XcYD8C0Fjmkw==\" data-column=\"1\" data-row=\"57\">\\n        \\n\\n        <a class=\"base-card__full-link absolute top-0 right-0 bottom-0 left-0 p-0 z-[2]\" href=\"https://co.linkedin.com/jobs/view/bi-specialist-at-payu-4122014702?position=7&amp;pageNum=5&amp;refId=PtxL4dLg47pDD8W1aH5DJw%3D%3D&amp;trackingId=alMAJ27Hq4XcYD8C0Fjmkw%3D%3D\" data-tracking-control-name=\"public_jobs_jserp-result_search-card\" data-tracking-client-ingraph data-tracking-will-navigate>\\n          \\n          <span class=\"sr-only\">\\n              \\n        \\n        BI Specialist\\n      \\n      \\n          </span>\\n        </a>\\n\\n      \\n        \\n    <div class=\"search-entity-media\">\\n        \\n      <img class=\"artdeco-entity-image artdeco-entity-image--square-4\\n          \" data-delayed-url=\"https://media.licdn.com/dms/image/v2/D4D0BAQE7Pgi9EEhe5Q/company-logo_100_100/company-logo_100_100/0/1719833653506/payu_logo?e=2147483647&amp;v=beta&amp;t=kH-_6jOEH8nyW1-HT_hjKkaE8VCP7dDLeHJggk6I6rM\" data-ghost-classes=\"artdeco-entity-image--ghost\" data-ghost-url=\"https://static.licdn.com/aero-v1/sc/h/6puxblwmhnodu6fjircz4dn4h\" alt>\\n  \\n    </div>\\n  \\n\\n        <div class=\"base-search-card__info\">\\n          <h3 class=\"base-search-card__title\">\\n            \\n        BI Specialist\\n      \\n          </h3>\\n\\n            <h4 class=\"base-search-card__subtitle\">\\n              \\n          <a class=\"hidden-nested-link\" data-tracking-client-ingraph data-tracking-control-name=\"public_jobs_jserp-result_job-search-card-subtitle\" data-tracking-will-navigate href=\"https://nl.linkedin.com/company/payu?trk=public_jobs_jserp-result_job-search-card-subtitle\">\\n            PayU\\n          </a>\\n      \\n            </h4>\\n\\n<!---->\\n            <div class=\"base-search-card__metadata\">\\n              \\n          <span class=\"job-search-card__location\">\\n            Bogota, D.C., Capital District, Colombia\\n          </span>\\n\\n        \\n    \\n    \\n    \\n    \\n\\n      <div class=\"job-posting-benefits text-sm\">\\n        <icon class=\"job-posting-benefits__icon\" data-delayed-url=\"https://static.licdn.com/aero-v1/sc/h/3p1v0uhy7uq0cm5zdvzp4eo18\" data-svg-class-name=\"job-posting-benefits__icon-svg\"></icon>\\n        <span class=\"job-posting-benefits__text\">\\n          Actively Hiring\\n<!---->        </span>\\n      </div>\\n  \\n\\n          <time class=\"job-search-card__listdate--new\" datetime=\"2025-01-10\">\\n            \\n\\n    \\n    \\n    \\n    \\n    \\n    \\n    \\n    \\n    \\n    \\n    \\n    \\n    \\n    \\n    \\n    \\n\\n    \\n    \\n    \\n    \\n    \\n    \\n    \\n    \\n    \\n    \\n    \\n    \\n    \\n    \\n\\n      13 hours ago\\n  \\n          </time>\\n\\n<!---->      \\n            </div>\\n        </div>\\n<!---->      \\n    \\n      </div>\\n  \\n  \\n  \\n  \\n      </li>\\n      <li>\\n        \\n    \\n\\n    \\n    \\n    \\n      <div class=\"base-card relative w-full hover:no-underline focus:no-underline base-card--link base-search-card base-search-card--link job-search-card\" data-entity-urn=\"urn:li:jobPosting:4113253836\" data-impression-id=\"jobs-search-result-7\" data-reference-id=\"PtxL4dLg47pDD8W1aH5DJw==\" data-tracking-id=\"B/TBqVAw7xWKBR1aUegXSw==\" data-column=\"1\" data-row=\"58\">\\n        \\n\\n        <a class=\"base-card__full-link absolute top-0 right-0 bottom-0 left-0 p-0 z-[2]\" href=\"https://co.linkedin.com/jobs/view/analista-de-datos-at-magneto-empleos-4113253836?position=8&amp;pageNum=5&amp;refId=PtxL4dLg47pDD8W1aH5DJw%3D%3D&amp;trackingId=B%2FTBqVAw7xWKBR1aUegXSw%3D%3D\" data-tracking-control-name=\"public_jobs_jserp-result_search-card\" data-tracking-client-ingraph data-tracking-will-navigate>\\n          \\n          <span class=\"sr-only\">\\n              \\n        \\n        Analista de Datos\\n      \\n      \\n          </span>\\n        </a>\\n\\n      \\n        \\n    <div class=\"search-entity-media\">\\n        \\n      <img class=\"artdeco-entity-image artdeco-entity-image--square-4\\n          \" data-delayed-url=\"https://media.licdn.com/dms/image/v2/C4E0BAQGSDyQZoeTZkw/company-logo_100_100/company-logo_100_100/0/1672666932308/magnetoempleos_logo?e=2147483647&amp;v=beta&amp;t=ctH9h7nRrbqW8RB_v2ZsTN6O_i_wSfrYafe1hGiyfQI\" data-ghost-classes=\"artdeco-entity-image--ghost\" data-ghost-url=\"https://static.licdn.com/aero-v1/sc/h/6puxblwmhnodu6fjircz4dn4h\" alt>\\n  \\n    </div>\\n  \\n\\n        <div class=\"base-search-card__info\">\\n          <h3 class=\"base-search-card__title\">\\n            \\n        Analista de Datos\\n      \\n          </h3>\\n\\n            <h4 class=\"base-search-card__subtitle\">\\n              \\n          <a class=\"hidden-nested-link\" data-tracking-client-ingraph data-tracking-control-name=\"public_jobs_jserp-result_job-search-card-subtitle\" data-tracking-will-navigate href=\"https://co.linkedin.com/company/magnetoempleos?trk=public_jobs_jserp-result_job-search-card-subtitle\">\\n            Magneto Empleos\\n          </a>\\n      \\n            </h4>\\n\\n<!---->\\n            <div class=\"base-search-card__metadata\">\\n              \\n          <span class=\"job-search-card__location\">\\n            Cali, Valle del Cauca, Colombia\\n          </span>\\n\\n        \\n    \\n    \\n    \\n    \\n\\n<!---->  \\n\\n          <time class=\"job-search-card__listdate\" datetime=\"2024-12-31\">\\n            \\n\\n    \\n    \\n    \\n    \\n    \\n    \\n    \\n    \\n    \\n    \\n    \\n    \\n    \\n    \\n    \\n    \\n\\n    \\n    \\n    \\n    \\n    \\n    \\n    \\n    \\n    \\n    \\n    \\n    \\n    \\n    \\n\\n      1 week ago\\n  \\n          </time>\\n\\n<!---->      \\n            </div>\\n        </div>\\n<!---->      \\n    \\n      </div>\\n  \\n  \\n  \\n  \\n      </li>\\n      <li>\\n        \\n    \\n\\n    \\n    \\n    \\n      <div class=\"base-card relative w-full hover:no-underline focus:no-underline base-card--link base-search-card base-search-card--link job-search-card\" data-entity-urn=\"urn:li:jobPosting:4119956692\" data-impression-id=\"jobs-search-result-8\" data-reference-id=\"PtxL4dLg47pDD8W1aH5DJw==\" data-tracking-id=\"08iSGCco0YubM22STv0vpg==\" data-column=\"1\" data-row=\"59\">\\n        \\n\\n        <a class=\"base-card__full-link absolute top-0 right-0 bottom-0 left-0 p-0 z-[2]\" href=\"https://co.linkedin.com/jobs/view/analista-de-datos-at-kibernum-4119956692?position=9&amp;pageNum=5&amp;refId=PtxL4dLg47pDD8W1aH5DJw%3D%3D&amp;trackingId=08iSGCco0YubM22STv0vpg%3D%3D\" data-tracking-control-name=\"public_jobs_jserp-result_search-card\" data-tracking-client-ingraph data-tracking-will-navigate>\\n          \\n          <span class=\"sr-only\">\\n              \\n        \\n        Analista de datos\\n      \\n      \\n          </span>\\n        </a>\\n\\n      \\n        \\n    <div class=\"search-entity-media\">\\n        \\n      <img class=\"artdeco-entity-image artdeco-entity-image--square-4\\n          \" data-delayed-url=\"https://media.licdn.com/dms/image/v2/D4E0BAQH8SW-YTlPcIw/company-logo_100_100/company-logo_100_100/0/1720449817924/kibernum_logo?e=2147483647&amp;v=beta&amp;t=BfSbUyieHGHtB_Dz87MA-1k7Bve5RaeSSpBcN75atZM\" data-ghost-classes=\"artdeco-entity-image--ghost\" data-ghost-url=\"https://static.licdn.com/aero-v1/sc/h/6puxblwmhnodu6fjircz4dn4h\" alt>\\n  \\n    </div>\\n  \\n\\n        <div class=\"base-search-card__info\">\\n          <h3 class=\"base-search-card__title\">\\n            \\n        Analista de datos\\n      \\n          </h3>\\n\\n            <h4 class=\"base-search-card__subtitle\">\\n              \\n          <a class=\"hidden-nested-link\" data-tracking-client-ingraph data-tracking-control-name=\"public_jobs_jserp-result_job-search-card-subtitle\" data-tracking-will-navigate href=\"https://cl.linkedin.com/company/kibernum?trk=public_jobs_jserp-result_job-search-card-subtitle\">\\n            Kibernum\\n          </a>\\n      \\n            </h4>\\n\\n<!---->\\n            <div class=\"base-search-card__metadata\">\\n              \\n          <span class=\"job-search-card__location\">\\n            Bogota, D.C., Capital District, Colombia\\n          </span>\\n\\n        \\n    \\n    \\n    \\n    \\n\\n      <div class=\"job-posting-benefits text-sm\">\\n        <icon class=\"job-posting-benefits__icon\" data-delayed-url=\"https://static.licdn.com/aero-v1/sc/h/3p1v0uhy7uq0cm5zdvzp4eo18\" data-svg-class-name=\"job-posting-benefits__icon-svg\"></icon>\\n        <span class=\"job-posting-benefits__text\">\\n          Actively Hiring\\n<!---->        </span>\\n      </div>\\n  \\n\\n          <time class=\"job-search-card__listdate--new\" datetime=\"2025-01-10\">\\n            \\n\\n    \\n    \\n    \\n    \\n    \\n    \\n    \\n    \\n    \\n    \\n    \\n    \\n    \\n    \\n    \\n    \\n\\n    \\n    \\n    \\n    \\n    \\n    \\n    \\n    \\n    \\n    \\n    \\n    \\n    \\n    \\n\\n      2 hours ago\\n  \\n          </time>\\n\\n<!---->      \\n            </div>\\n        </div>\\n<!---->      \\n    \\n      </div>\\n  \\n  \\n  \\n  \\n      </li>\\n      <li>\\n        \\n    \\n\\n    \\n    \\n    \\n      <div class=\"base-card relative w-full hover:no-underline focus:no-underline base-card--link base-search-card base-search-card--link job-search-card\" data-entity-urn=\"urn:li:jobPosting:4119060699\" data-impression-id=\"jobs-search-result-9\" data-reference-id=\"PtxL4dLg47pDD8W1aH5DJw==\" data-tracking-id=\"UoRmOFzumQzDXQIPpQ9OcQ==\" data-column=\"1\" data-row=\"60\">\\n        \\n\\n        <a class=\"base-card__full-link absolute top-0 right-0 bottom-0 left-0 p-0 z-[2]\" href=\"https://co.linkedin.com/jobs/view/analista-de-datos-at-empleamos-temporales-sas-4119060699?position=10&amp;pageNum=5&amp;refId=PtxL4dLg47pDD8W1aH5DJw%3D%3D&amp;trackingId=UoRmOFzumQzDXQIPpQ9OcQ%3D%3D\" data-tracking-control-name=\"public_jobs_jserp-result_search-card\" data-tracking-client-ingraph data-tracking-will-navigate>\\n          \\n          <span class=\"sr-only\">\\n              \\n        \\n        Analista de datos\\n      \\n      \\n          </span>\\n        </a>\\n\\n      \\n        \\n    <div class=\"search-entity-media\">\\n        \\n      <img class=\"artdeco-entity-image artdeco-entity-image--square-4\\n          \" data-delayed-url=\"https://media.licdn.com/dms/image/v2/D4E0BAQFHbrrF8xbYjg/company-logo_100_100/company-logo_100_100/0/1684528888876/empleamos_temporales_sas_logo?e=2147483647&amp;v=beta&amp;t=9dQzPNngZf7Y5WLv_X2UQXsYksjtD-_k56qdUDxOR4o\" data-ghost-classes=\"artdeco-entity-image--ghost\" data-ghost-url=\"https://static.licdn.com/aero-v1/sc/h/6puxblwmhnodu6fjircz4dn4h\" alt>\\n  \\n    </div>\\n  \\n\\n        <div class=\"base-search-card__info\">\\n          <h3 class=\"base-search-card__title\">\\n            \\n        Analista de datos\\n      \\n          </h3>\\n\\n            <h4 class=\"base-search-card__subtitle\">\\n              \\n          <a class=\"hidden-nested-link\" data-tracking-client-ingraph data-tracking-control-name=\"public_jobs_jserp-result_job-search-card-subtitle\" data-tracking-will-navigate href=\"https://co.linkedin.com/company/empleamos-temporales-sas?trk=public_jobs_jserp-result_job-search-card-subtitle\">\\n            Empleamos Temporales SAS\\n          </a>\\n      \\n            </h4>\\n\\n<!---->\\n            <div class=\"base-search-card__metadata\">\\n              \\n          <span class=\"job-search-card__location\">\\n            Bogota, D.C., Capital District, Colombia\\n          </span>\\n\\n        \\n    \\n    \\n    \\n    \\n\\n<!---->  \\n\\n          <time class=\"job-search-card__listdate\" datetime=\"2025-01-07\">\\n            \\n\\n    \\n    \\n    \\n    \\n    \\n    \\n    \\n    \\n    \\n    \\n    \\n    \\n    \\n    \\n    \\n    \\n\\n    \\n    \\n    \\n    \\n    \\n    \\n    \\n    \\n    \\n    \\n    \\n    \\n    \\n    \\n\\n      2 days ago\\n  \\n          </time>\\n\\n<!---->      \\n            </div>\\n        </div>\\n<!---->      \\n    \\n      </div>\\n  \\n  \\n  \\n  \\n      </li>\\n  '"
      ]
     },
     "execution_count": 10,
     "metadata": {},
     "output_type": "execute_result"
    }
   ],
   "source": [
    "response.text"
   ]
  },
  {
   "cell_type": "code",
   "execution_count": null,
   "metadata": {},
   "outputs": [],
   "source": [
    " #job_id = \"4091486320\"\n",
    "#?trackingId=KRgjpxTi1FdipZiRc4ZX8g%3D%3D\n",
    " #url ex https://www.linkedin.com/jobs-guest/jobs/api/jobPosting/4091486320?trackingId=KRgjpxTi1FdipZiRc4ZX8g%3D%3D"
   ]
  },
  {
   "cell_type": "code",
   "execution_count": 11,
   "metadata": {},
   "outputs": [
    {
     "name": "stdout",
     "output_type": "stream",
     "text": [
      "200\n",
      "200\n",
      "200\n",
      "200\n",
      "200\n",
      "200\n",
      "200\n",
      "200\n",
      "200\n",
      "200\n"
     ]
    }
   ],
   "source": [
    "job_list = []\n",
    "\n",
    "for job_id in id_list: \n",
    "    job_url = f\"https://www.linkedin.com/jobs-guest/jobs/api/jobPosting/{job_id}\" \n",
    "    job_response = requests.get(job_url)\n",
    "    print(job_response.status_code)\n",
    "    job_soup = BeautifulSoup(job_response.text, \"html.parser\")\n",
    "    job_post = {}\n",
    "    job_post[\"company_name\"] = job_soup.find(\"a\", {\"class\": \"topcard__org-name-link topcard__flavor--black-link\"}).text.strip()\n"
   ]
  },
  {
   "cell_type": "code",
   "execution_count": 44,
   "metadata": {},
   "outputs": [
    {
     "name": "stdout",
     "output_type": "stream",
     "text": [
      "200\n",
      "200\n",
      "200\n",
      "200\n",
      "200\n",
      "200\n",
      "200\n",
      "200\n",
      "200\n",
      "200\n"
     ]
    }
   ],
   "source": [
    "# Initialize an empty list to store job information\n",
    "job_list = []\n",
    "\n",
    "# Loop through the list of job IDs and get each URL\n",
    "for job_id in id_list:\n",
    "    # Construct the URL for each job using the job ID\n",
    "    job_url = f\"https://www.linkedin.com/jobs-guest/jobs/api/jobPosting/{job_id}\"\n",
    "    \n",
    "    #url decente \n",
    "    #job_url_id = f\"https://www.linkedin.com/jobs/view/{job_id}\"\n",
    "\n",
    "    # Send a GET request to the job URL and parse the reponse\n",
    "    job_response = requests.get(job_url)\n",
    "    print(job_response.status_code)\n",
    "    job_soup = BeautifulSoup(job_response.text, \"html.parser\")\n",
    "    \n",
    "     # Create a dictionary to store job details\n",
    "    job_post = {}\n",
    "    \n",
    "    # Try to extract and store the job title\n",
    "    try:\n",
    "        job_post[\"job_title\"] = job_soup.find(\"h2\", {\"class\":\"top-card-layout__title font-sans text-lg papabear:text-xl font-bold leading-open text-color-text mb-0 topcard__title\"}).text.strip()\n",
    "    except:\n",
    "        job_post[\"job_title\"] = None\n",
    "        \n",
    "    # Try to extract and store the company name\n",
    "    try:\n",
    "        job_post[\"company_name\"] = job_soup.find(\"a\", {\"class\": \"topcard__org-name-link topcard__flavor--black-link\"}).text.strip()\n",
    "    except:\n",
    "        job_post[\"company_name\"] = None\n",
    "\n",
    "    # Try to extract and store the rubro\n",
    "    try:\n",
    "        job_post[\"rubro\"] = job_soup.find(\"span\", {\"class\": \"description__job-criteria-text description__job-criteria-text--criteria\"}).text.strip()\n",
    "    except:\n",
    "        job_post[\"rubro\"] = None\n",
    "        \n",
    "    # Try to extract and store the time posted\n",
    "    try:\n",
    "        job_post[\"time_posted\"] = job_soup.find(\"span\", {\"class\": \"posted-time-ago__text topcard__flavor--metadata\"}).text.strip()\n",
    "    except:\n",
    "        job_post[\"time_posted\"] = None\n",
    "        \n",
    "    # Try to extract and store the number of applicants\n",
    "    try:\n",
    "        job_post[\"num_applicants\"] = job_soup.find(\"span\", {\"class\": \"num-applicants__caption topcard__flavor--metadata topcard__flavor--bullet\"}).text.strip()\n",
    "    except:\n",
    "        job_post[\"num_applicants\"] =None\n",
    "        \n",
    "    # Campo del reclutador y su enlace\n",
    "    try:\n",
    "        recruiter_tag = job_soup.find(\"a\", {\"class\": \"base-card__full-link absolute top-0 right-0 bottom-0 left-0 p-0 z-[2]\"})\n",
    "        job_post[\"recruiter_name\"] = recruiter_tag.text.strip()  # Nombre del reclutador\n",
    "        job_post[\"recruiter_link\"] = recruiter_tag.get(\"href\")  # Enlace del reclutador\n",
    "    except AttributeError:\n",
    "        job_post[\"recruiter_name\"] = None\n",
    "        job_post[\"recruiter_link\"] = None\n",
    "    \n",
    "    # Try to extract and store enlace de la vacante\n",
    "        #job_post[\"job_url_id\"] = job_url_id\n",
    "\n",
    "     # Agregar el enlace de la vacante\n",
    "        job_post[\"job_url\"] = f\"https://www.linkedin.com/jobs/view/{job_id}\"\n",
    "        \n",
    "    # Append the job details to the job_list\n",
    "    job_list.append(job_post)\n",
    "    "
   ]
  },
  {
   "cell_type": "code",
   "execution_count": 41,
   "metadata": {},
   "outputs": [
    {
     "data": {
      "text/plain": [
       "[{'job_title': 'Profesional de Datos',\n",
       "  'company_name': 'MARVAL S.A.',\n",
       "  'rubro': 'Entry level',\n",
       "  'time_posted': '1 month ago',\n",
       "  'num_applicants': None,\n",
       "  'recruiter_name': None,\n",
       "  'recruiter_link': None,\n",
       "  'job_url_id': 'https://www.linkedin.com/jobs/view/4086408163'},\n",
       " {'job_title': 'Data Analyst',\n",
       "  'company_name': 'Antenna',\n",
       "  'rubro': 'Entry level',\n",
       "  'time_posted': '2 weeks ago',\n",
       "  'num_applicants': '96 applicants',\n",
       "  'recruiter_name': None,\n",
       "  'recruiter_link': None,\n",
       "  'job_url_id': 'https://www.linkedin.com/jobs/view/4108538208'},\n",
       " {'job_title': 'Analista de Datos',\n",
       "  'company_name': 'Fundación Cardiovascular de Colombia',\n",
       "  'rubro': 'Mid-Senior level',\n",
       "  'time_posted': '4 months ago',\n",
       "  'num_applicants': None,\n",
       "  'recruiter_name': None,\n",
       "  'recruiter_link': None,\n",
       "  'job_url_id': 'https://www.linkedin.com/jobs/view/4002077821'},\n",
       " {'job_title': 'Profesional analítica de datos e inteligencia de negocios',\n",
       "  'company_name': 'Constructora Capital',\n",
       "  'rubro': 'Mid-Senior level',\n",
       "  'time_posted': '3 months ago',\n",
       "  'num_applicants': None,\n",
       "  'recruiter_name': None,\n",
       "  'recruiter_link': None,\n",
       "  'job_url_id': 'https://www.linkedin.com/jobs/view/4041034687'},\n",
       " {'job_title': 'Data Analyst',\n",
       "  'company_name': 'Emapta Global',\n",
       "  'rubro': 'Associate',\n",
       "  'time_posted': None,\n",
       "  'num_applicants': '95 applicants',\n",
       "  'recruiter_name': None,\n",
       "  'recruiter_link': None,\n",
       "  'job_url_id': 'https://www.linkedin.com/jobs/view/4119851550'},\n",
       " {'job_title': 'Audience Analyst - Data, Analytics & Martech',\n",
       "  'company_name': 'Globant',\n",
       "  'rubro': 'Mid-Senior level',\n",
       "  'time_posted': '2 weeks ago',\n",
       "  'num_applicants': None,\n",
       "  'recruiter_name': 'Luisa Fernanda Carrillo Cediel',\n",
       "  'recruiter_link': 'https://co.linkedin.com/in/luisa-fernanda-carrillo-cediel-209609214'},\n",
       " {'job_title': 'BI Specialist',\n",
       "  'company_name': 'PayU',\n",
       "  'rubro': 'Entry level',\n",
       "  'time_posted': None,\n",
       "  'num_applicants': '43 applicants',\n",
       "  'recruiter_name': None,\n",
       "  'recruiter_link': None,\n",
       "  'job_url_id': 'https://www.linkedin.com/jobs/view/4122014702'},\n",
       " {'job_title': 'Analista de Datos',\n",
       "  'company_name': 'Magneto Empleos',\n",
       "  'rubro': 'Entry level',\n",
       "  'time_posted': '1 week ago',\n",
       "  'num_applicants': '178 applicants',\n",
       "  'recruiter_name': None,\n",
       "  'recruiter_link': None,\n",
       "  'job_url_id': 'https://www.linkedin.com/jobs/view/4113253836'},\n",
       " {'job_title': 'Analista de datos',\n",
       "  'company_name': 'Kibernum',\n",
       "  'rubro': 'Mid-Senior level',\n",
       "  'time_posted': None,\n",
       "  'num_applicants': '46 applicants',\n",
       "  'recruiter_name': 'Natalia Ayala',\n",
       "  'recruiter_link': 'https://co.linkedin.com/in/natalia-ayala-26452a211'},\n",
       " {'job_title': 'Analista de datos',\n",
       "  'company_name': 'Empleamos Temporales SAS',\n",
       "  'rubro': 'Mid-Senior level',\n",
       "  'time_posted': '2 days ago',\n",
       "  'num_applicants': '162 applicants',\n",
       "  'recruiter_name': None,\n",
       "  'recruiter_link': None,\n",
       "  'job_url_id': 'https://www.linkedin.com/jobs/view/4119060699'}]"
      ]
     },
     "execution_count": 41,
     "metadata": {},
     "output_type": "execute_result"
    }
   ],
   "source": [
    "#Check if the list contains all the desired data\n",
    "job_list"
   ]
  },
  {
   "cell_type": "code",
   "execution_count": 45,
   "metadata": {},
   "outputs": [
    {
     "data": {
      "text/html": [
       "<div>\n",
       "<style scoped>\n",
       "    .dataframe tbody tr th:only-of-type {\n",
       "        vertical-align: middle;\n",
       "    }\n",
       "\n",
       "    .dataframe tbody tr th {\n",
       "        vertical-align: top;\n",
       "    }\n",
       "\n",
       "    .dataframe thead th {\n",
       "        text-align: right;\n",
       "    }\n",
       "</style>\n",
       "<table border=\"1\" class=\"dataframe\">\n",
       "  <thead>\n",
       "    <tr style=\"text-align: right;\">\n",
       "      <th></th>\n",
       "      <th>job_title</th>\n",
       "      <th>company_name</th>\n",
       "      <th>rubro</th>\n",
       "      <th>time_posted</th>\n",
       "      <th>num_applicants</th>\n",
       "      <th>recruiter_name</th>\n",
       "      <th>recruiter_link</th>\n",
       "      <th>job_url</th>\n",
       "    </tr>\n",
       "  </thead>\n",
       "  <tbody>\n",
       "    <tr>\n",
       "      <th>0</th>\n",
       "      <td>Profesional de Datos</td>\n",
       "      <td>MARVAL S.A.</td>\n",
       "      <td>Entry level</td>\n",
       "      <td>1 month ago</td>\n",
       "      <td>None</td>\n",
       "      <td>None</td>\n",
       "      <td>None</td>\n",
       "      <td>https://www.linkedin.com/jobs/view/4086408163</td>\n",
       "    </tr>\n",
       "    <tr>\n",
       "      <th>1</th>\n",
       "      <td>Data Analyst</td>\n",
       "      <td>Antenna</td>\n",
       "      <td>Entry level</td>\n",
       "      <td>2 weeks ago</td>\n",
       "      <td>96 applicants</td>\n",
       "      <td>None</td>\n",
       "      <td>None</td>\n",
       "      <td>https://www.linkedin.com/jobs/view/4108538208</td>\n",
       "    </tr>\n",
       "    <tr>\n",
       "      <th>2</th>\n",
       "      <td>Analista de Datos</td>\n",
       "      <td>Fundación Cardiovascular de Colombia</td>\n",
       "      <td>Mid-Senior level</td>\n",
       "      <td>4 months ago</td>\n",
       "      <td>None</td>\n",
       "      <td>None</td>\n",
       "      <td>None</td>\n",
       "      <td>https://www.linkedin.com/jobs/view/4002077821</td>\n",
       "    </tr>\n",
       "    <tr>\n",
       "      <th>3</th>\n",
       "      <td>Profesional analítica de datos e inteligencia ...</td>\n",
       "      <td>Constructora Capital</td>\n",
       "      <td>Mid-Senior level</td>\n",
       "      <td>3 months ago</td>\n",
       "      <td>None</td>\n",
       "      <td>None</td>\n",
       "      <td>None</td>\n",
       "      <td>https://www.linkedin.com/jobs/view/4041034687</td>\n",
       "    </tr>\n",
       "    <tr>\n",
       "      <th>4</th>\n",
       "      <td>Data Analyst</td>\n",
       "      <td>Emapta Global</td>\n",
       "      <td>Associate</td>\n",
       "      <td>None</td>\n",
       "      <td>95 applicants</td>\n",
       "      <td>None</td>\n",
       "      <td>None</td>\n",
       "      <td>https://www.linkedin.com/jobs/view/4119851550</td>\n",
       "    </tr>\n",
       "    <tr>\n",
       "      <th>5</th>\n",
       "      <td>Audience Analyst - Data, Analytics &amp; Martech</td>\n",
       "      <td>Globant</td>\n",
       "      <td>Mid-Senior level</td>\n",
       "      <td>2 weeks ago</td>\n",
       "      <td>None</td>\n",
       "      <td>Luisa Fernanda Carrillo Cediel</td>\n",
       "      <td>https://co.linkedin.com/in/luisa-fernanda-carr...</td>\n",
       "      <td>NaN</td>\n",
       "    </tr>\n",
       "    <tr>\n",
       "      <th>6</th>\n",
       "      <td>BI Specialist</td>\n",
       "      <td>PayU</td>\n",
       "      <td>Entry level</td>\n",
       "      <td>None</td>\n",
       "      <td>43 applicants</td>\n",
       "      <td>None</td>\n",
       "      <td>None</td>\n",
       "      <td>https://www.linkedin.com/jobs/view/4122014702</td>\n",
       "    </tr>\n",
       "    <tr>\n",
       "      <th>7</th>\n",
       "      <td>Analista de Datos</td>\n",
       "      <td>Magneto Empleos</td>\n",
       "      <td>Entry level</td>\n",
       "      <td>1 week ago</td>\n",
       "      <td>178 applicants</td>\n",
       "      <td>None</td>\n",
       "      <td>None</td>\n",
       "      <td>https://www.linkedin.com/jobs/view/4113253836</td>\n",
       "    </tr>\n",
       "    <tr>\n",
       "      <th>8</th>\n",
       "      <td>Analista de datos</td>\n",
       "      <td>Kibernum</td>\n",
       "      <td>Mid-Senior level</td>\n",
       "      <td>None</td>\n",
       "      <td>46 applicants</td>\n",
       "      <td>Natalia Ayala</td>\n",
       "      <td>https://co.linkedin.com/in/natalia-ayala-26452...</td>\n",
       "      <td>NaN</td>\n",
       "    </tr>\n",
       "    <tr>\n",
       "      <th>9</th>\n",
       "      <td>Analista de datos</td>\n",
       "      <td>Empleamos Temporales SAS</td>\n",
       "      <td>Mid-Senior level</td>\n",
       "      <td>2 days ago</td>\n",
       "      <td>162 applicants</td>\n",
       "      <td>None</td>\n",
       "      <td>None</td>\n",
       "      <td>https://www.linkedin.com/jobs/view/4119060699</td>\n",
       "    </tr>\n",
       "  </tbody>\n",
       "</table>\n",
       "</div>"
      ],
      "text/plain": [
       "                                           job_title  \\\n",
       "0                               Profesional de Datos   \n",
       "1                                       Data Analyst   \n",
       "2                                  Analista de Datos   \n",
       "3  Profesional analítica de datos e inteligencia ...   \n",
       "4                                       Data Analyst   \n",
       "5       Audience Analyst - Data, Analytics & Martech   \n",
       "6                                      BI Specialist   \n",
       "7                                  Analista de Datos   \n",
       "8                                  Analista de datos   \n",
       "9                                  Analista de datos   \n",
       "\n",
       "                           company_name             rubro   time_posted  \\\n",
       "0                           MARVAL S.A.       Entry level   1 month ago   \n",
       "1                               Antenna       Entry level   2 weeks ago   \n",
       "2  Fundación Cardiovascular de Colombia  Mid-Senior level  4 months ago   \n",
       "3                  Constructora Capital  Mid-Senior level  3 months ago   \n",
       "4                         Emapta Global         Associate          None   \n",
       "5                               Globant  Mid-Senior level   2 weeks ago   \n",
       "6                                  PayU       Entry level          None   \n",
       "7                       Magneto Empleos       Entry level    1 week ago   \n",
       "8                              Kibernum  Mid-Senior level          None   \n",
       "9              Empleamos Temporales SAS  Mid-Senior level    2 days ago   \n",
       "\n",
       "   num_applicants                  recruiter_name  \\\n",
       "0            None                            None   \n",
       "1   96 applicants                            None   \n",
       "2            None                            None   \n",
       "3            None                            None   \n",
       "4   95 applicants                            None   \n",
       "5            None  Luisa Fernanda Carrillo Cediel   \n",
       "6   43 applicants                            None   \n",
       "7  178 applicants                            None   \n",
       "8   46 applicants                   Natalia Ayala   \n",
       "9  162 applicants                            None   \n",
       "\n",
       "                                      recruiter_link  \\\n",
       "0                                               None   \n",
       "1                                               None   \n",
       "2                                               None   \n",
       "3                                               None   \n",
       "4                                               None   \n",
       "5  https://co.linkedin.com/in/luisa-fernanda-carr...   \n",
       "6                                               None   \n",
       "7                                               None   \n",
       "8  https://co.linkedin.com/in/natalia-ayala-26452...   \n",
       "9                                               None   \n",
       "\n",
       "                                         job_url  \n",
       "0  https://www.linkedin.com/jobs/view/4086408163  \n",
       "1  https://www.linkedin.com/jobs/view/4108538208  \n",
       "2  https://www.linkedin.com/jobs/view/4002077821  \n",
       "3  https://www.linkedin.com/jobs/view/4041034687  \n",
       "4  https://www.linkedin.com/jobs/view/4119851550  \n",
       "5                                            NaN  \n",
       "6  https://www.linkedin.com/jobs/view/4122014702  \n",
       "7  https://www.linkedin.com/jobs/view/4113253836  \n",
       "8                                            NaN  \n",
       "9  https://www.linkedin.com/jobs/view/4119060699  "
      ]
     },
     "execution_count": 45,
     "metadata": {},
     "output_type": "execute_result"
    }
   ],
   "source": [
    "# Create a pandas DataFrame using the list of job dictionaries 'job_list'\n",
    "jobs_df = pd.DataFrame(job_list)\n",
    "jobs_df"
   ]
  },
  {
   "cell_type": "code",
   "execution_count": 19,
   "metadata": {},
   "outputs": [],
   "source": [
    "#Save data to CSV file\n",
    "jobs_df.to_csv('Toronto_Python_Developer.csv', index = False)"
   ]
  },
  {
   "cell_type": "code",
   "execution_count": 43,
   "metadata": {},
   "outputs": [
    {
     "name": "stdout",
     "output_type": "stream",
     "text": [
      "Los trabajos se han guardado en LinkedIn_Jobs.xlsx\n"
     ]
    }
   ],
   "source": [
    "# Convertir la lista de trabajos a un DataFrame\n",
    "jobs_df = pd.DataFrame(job_list)\n",
    "\n",
    "# Guardar en un archivo Excel\n",
    "jobs_df.to_excel(\"LinkedIn_Jobs_2.xlsx\", index=False, engine=\"openpyxl\")\n",
    "\n",
    "print(\"Los trabajos se han guardado en LinkedIn_Jobs.xlsx\")\n"
   ]
  },
  {
   "cell_type": "code",
   "execution_count": 20,
   "metadata": {},
   "outputs": [
    {
     "name": "stdout",
     "output_type": "stream",
     "text": [
      "<!DOCTYPE html>\n",
      "\n",
      "      <li>\n",
      "        \n",
      "    \n",
      "\n",
      "    \n",
      "    \n",
      "    \n",
      "      <div class=\"base-card relative w-full hover:no-underline focus:no-underline base-card--link base-search-card base-search-card--link job-search-card\" data-entity-urn=\"urn:li:jobPosting:4096789890\" data-impression-id=\"jobs-search-result-0\" data-reference-id=\"OVgv9Vu4rIV3kCAJOmZg4w==\" data-tracking-id=\"30TtYGuwS3sLwxlFFIdgvw==\" data-column=\"1\" data-row=\"26\">\n",
      "        \n",
      "\n",
      "        <a class=\"base-card__full-link absolute top-0 right-0 bottom\n"
     ]
    }
   ],
   "source": [
    "print(response.text[:500])  # Imprime los primeros 500 caracteres del HTML\n"
   ]
  },
  {
   "cell_type": "code",
   "execution_count": 21,
   "metadata": {},
   "outputs": [],
   "source": [
    "headers = {\n",
    "    \"User-Agent\": \"Mozilla/5.0 (Windows NT 10.0; Win64; x64) AppleWebKit/537.36 (KHTML, like Gecko) Chrome/91.0.4472.124 Safari/537.36\"\n",
    "}\n",
    "response = requests.get(list_url, headers=headers)"
   ]
  },
  {
   "cell_type": "code",
   "execution_count": null,
   "metadata": {},
   "outputs": [],
   "source": [
    "#links \n",
    "#main page\n",
    "#https://www.linkedin.com/jobs/search?keywords=analista%2Bde%2Bdatos&location=colombia&trk=public_jobs_jobs-search-bar_search-submit&currentJobId=4091486320&position=4&pageNum=0\n",
    "\n",
    "#https://www.linkedin.com/jobs-guest/jobs/api/jobPosting/4091486320\n",
    "#https://www.linkedin.com/jobs-guest/jobs/api/seeMoreJobPostings/search?keywords=analista%2Bde%2Bdatos&location=colombia&geoId=&trk=public_jobs_jobs-search-bar_search-submit&start=25\n",
    "#https://www.linkedin.com/jobs-guest/jobs/api/jobPosting/4091486320?trackingId=KRgjpxTi1FdipZiRc4ZX8g%3D%3D\n",
    "\n",
    "#tutorial git hub https://github.com/the-data-circle/linkedin-jobs-webscraping/blob/main/Linkedin_Scraper_Tutorial.ipynb\n",
    "#video_yt https://www.youtube.com/watch?v=-H-JCgvV0z8"
   ]
  },
  {
   "cell_type": "code",
   "execution_count": 10,
   "metadata": {},
   "outputs": [
    {
     "data": {
      "text/plain": [
       "{'company_name': 'Somewhere'}"
      ]
     },
     "execution_count": 10,
     "metadata": {},
     "output_type": "execute_result"
    }
   ],
   "source": [
    "job_post"
   ]
  },
  {
   "cell_type": "code",
   "execution_count": 11,
   "metadata": {},
   "outputs": [
    {
     "data": {
      "text/plain": [
       "<Response [200]>"
      ]
     },
     "execution_count": 11,
     "metadata": {},
     "output_type": "execute_result"
    }
   ],
   "source": [
    "job_response"
   ]
  },
  {
   "cell_type": "code",
   "execution_count": 13,
   "metadata": {},
   "outputs": [
    {
     "data": {
      "text/plain": [
       "'\\n\\n    \\n<!---->    \\n    \\n\\n    \\n    <section class=\"top-card-layout container-lined overflow-hidden babybear:rounded-[0px]\">\\n        \\n      \\n\\n      <div class=\"top-card-layout__card relative p-2 papabear:p-details-container-padding\">\\n            \\n        \\n      <a href=\"https://www.linkedin.com/company/somewhere?trk=public_jobs_topcard_logo\" target=\"_self\" data-tracking-control-name=\"public_jobs_topcard_logo\" data-tracking-will-navigate>\\n        \\n          \\n      <img class=\"artdeco-entity-image artdeco-entity-image--square-5\\n          \" data-delayed-url=\"https://media.licdn.com/dms/image/v2/C560BAQEo6iv4QWT2qQ/company-logo_100_100/company-logo_100_100/0/1657197910492/shepherd_logo?e=2147483647&amp;v=beta&amp;t=Myh5Z7hZrHKiA6CSA07IYNhCB5Ph_yTYPz4IMHBK2nU\" data-ghost-classes=\"artdeco-entity-image--ghost\" data-ghost-url=\"https://static.licdn.com/aero-v1/sc/h/aajlclc14rr2scznz5qm2rj9u\" alt=\"Somewhere\">\\n  \\n        \\n      </a>\\n  \\n      \\n\\n          <div class=\"top-card-layout__entity-info-container flex flex-wrap papabear:flex-nowrap\">\\n            <div class=\"top-card-layout__entity-info flex-grow flex-shrink-0 basis-0 babybear:flex-none babybear:w-full babybear:flex-none babybear:w-full\">\\n                  \\n          <a href=\"https://co.linkedin.com/jobs/view/power-bi-analyst-at-somewhere-4118165138?trk=public_jobs_topcard-title\" data-tracking-control-name=\"public_jobs_topcard-title\" class=\"topcard__link\" data-tracking-will-navigate>\\n            <h2 class=\"top-card-layout__title font-sans text-lg papabear:text-xl font-bold leading-open text-color-text mb-0 topcard__title\">Power BI Analyst</h2>\\n          </a>\\n      \\n<!---->\\n<!---->\\n                <h4 class=\"top-card-layout__second-subline font-sans text-sm leading-open text-color-text-low-emphasis mt-0.5\">\\n                  \\n        <div class=\"topcard__flavor-row\">\\n          <span class=\"topcard__flavor\">\\n              <a class=\"topcard__org-name-link topcard__flavor--black-link\" data-tracking-control-name=\"public_jobs_topcard-org-name\" data-tracking-will-navigate href=\"https://www.linkedin.com/company/somewhere?trk=public_jobs_topcard-org-name\" rel=\"noopener\" target=\"_blank\">\\n                Somewhere\\n              </a>\\n          </span>\\n            <span class=\"topcard__flavor topcard__flavor--bullet\">\\n              Bogotá, Capital District, Colombia\\n            </span>\\n        </div>\\n        <div class=\"topcard__flavor-row\">\\n          \\n        <span class=\"posted-time-ago__text posted-time-ago__text--new topcard__flavor--metadata\">\\n          \\n\\n    \\n    \\n    \\n    \\n    \\n    \\n    \\n    \\n    \\n    \\n    \\n    \\n    \\n    \\n    \\n    \\n\\n    \\n    \\n    \\n    \\n    \\n    \\n    \\n    \\n    \\n    \\n    \\n    \\n    \\n    \\n\\n      13 hours ago\\n  \\n        </span>\\n  \\n          \\n    \\n    \\n    \\n\\n        <figure class=\"num-applicants__figure topcard__flavor--metadata topcard__flavor--bullet\">\\n          <span class=\"num-applicants__icon num-applicants__icon--notify-pebble lazy-load\"></span>\\n          <figcaption class=\"num-applicants__caption\">\\n            Over 200 applicants\\n          </figcaption>\\n        </figure>\\n  \\n        </div>\\n          \\n    \\n\\n    \\n      \\n    \\n      <a href=\"https://www.linkedin.com/login?session_redirect=https%3A%2F%2Fwww%2Elinkedin%2Ecom%2Fsearch%2Fresults%2Fpeople%2F%3FfacetCurrentCompany%3D1810488&amp;emailAddress=&amp;fromSignIn=&amp;trk=public_jobs_see-who-was-hired_people-search-link_face-pile-cta\" target=\"_self\" data-tracking-control-name=\"full-link\" data-tracking-will-navigate class=\"face-pile flex !no-underline see-who-was-hired\">\\n        \\n      <div class=\"face-pile__images-container self-start flex-shrink-0 mr-1 leading-[1]\">\\n          \\n      <img class=\"inline-block relative\\n          rounded-[50%]\\n          w-4 h-4\\n           face-pile__image border-1 border-solid border-color-transparent -ml-2 first:ml-0\" data-delayed-url=\"https://static.licdn.com/aero-v1/sc/h/pwqt08yz6sj59esncfc133u8\" data-ghost-classes=\"bg-color-entity-ghost-background\" data-ghost-url=\"https://static.licdn.com/aero-v1/sc/h/9c8pery4andzj6ohjkjp54ma2\" alt>\\n  \\n          \\n      <img class=\"inline-block relative\\n          rounded-[50%]\\n          w-4 h-4\\n           face-pile__image border-1 border-solid border-color-transparent -ml-2 first:ml-0\" data-delayed-url=\"https://static.licdn.com/aero-v1/sc/h/bdn0lfh0ybw8v8uvyqz35l06l\" data-ghost-classes=\"bg-color-entity-ghost-background\" data-ghost-url=\"https://static.licdn.com/aero-v1/sc/h/9c8pery4andzj6ohjkjp54ma2\" alt>\\n  \\n          \\n      <img class=\"inline-block relative\\n          rounded-[50%]\\n          w-4 h-4\\n           face-pile__image border-1 border-solid border-color-transparent -ml-2 first:ml-0\" data-delayed-url=\"https://static.licdn.com/aero-v1/sc/h/c090wioxqh0gduwjdkzvfj7j7\" data-ghost-classes=\"bg-color-entity-ghost-background\" data-ghost-url=\"https://static.licdn.com/aero-v1/sc/h/9c8pery4andzj6ohjkjp54ma2\" alt>\\n  \\n      </div>\\n        <p class=\"face-pile__text self-center font-sans text-sm\\n            link-styled hover:underline\">\\n          See who Somewhere has hired for this role\\n        </p>\\n          \\n      </a>\\n  \\n  \\n  \\n  \\n<!---->      \\n                </h4>\\n\\n              <div class=\"top-card-layout__cta-container flex flex-wrap mt-0.5 papabear:mt-0 ml-[-12px]\">\\n                    \\n          \\n    \\n\\n      <button class=\"apply-button apply-button--default top-card-layout__cta mt-2 ml-1.5 h-auto babybear:flex-auto top-card-layout__cta--primary btn-md btn-primary\" data-reference-id=\"UlwI+C7MSPiNN7uVD9zh7g==\" data-tracking-id=\"yJ4T0SDfQTKsmDii2Gs5uQ==\" data-tracking-control-name=\"public_jobs_apply-link-onsite\">\\n                Apply\\n      </button>\\n  \\n      \\n\\n                    \\n            <a class=\"top-card-layout__cta mt-2 ml-1.5 h-auto babybear:flex-auto top-card-layout__cta--secondary btn-md btn-secondary\" href=\"https://www.linkedin.com/login?emailAddress=&amp;fromSignIn=&amp;session_redirect=https%3A%2F%2Fco.linkedin.com%2Fjobs%2Fview%2Fpower-bi-analyst-at-somewhere-4118165138&amp;trk=public_jobs\" data-impression-id=\"public_jobs_topcard-save-job\" data-tracking-control-name=\"public_jobs_topcard-save-job\" data-tracking-will-navigate data-test-redirect-save-to-login>\\n                Save\\n            </a>\\n      \\n              </div>\\n            </div>\\n\\n<!---->          </div>\\n\\n          \\n\\n    \\n    \\n    \\n    \\n    \\n    \\n    \\n    \\n    \\n    \\n    \\n    \\n    \\n\\n      <div class=\"ellipsis-menu absolute right-0 top-0 top-card-layout__ellipsis-menu mr-1 papabear:mt-0.5 papabear:mr-2\">\\n        \\n\\n    \\n\\n    <div class=\"collapsible-dropdown flex items-center relative hyphens-auto\">\\n          \\n            <button class=\"ellipsis-menu__trigger\\n                collapsible-dropdown__button btn-md btn-tertiary cursor-pointer\\n                !py-[6px] !px-1 flex items-center rounded-[50%]\\n                \\n                \" aria-expanded=\"false\" aria-label=\"Open menu\" data-tracking-control-name=\"public_jobs_ellipsis-menu-trigger\" tabindex=\"0\">\\n              <icon class=\"ellipsis-menu__trigger-icon m-0 p-0 centered-icon\" data-delayed-url=\"https://static.licdn.com/aero-v1/sc/h/671xosfpvk4c0kqtyl87hashi\"></icon>\\n            </button>\\n          \\n\\n        <ul class=\"collapsible-dropdown__list hidden container-raised absolute w-auto overflow-y-auto flex-col items-stretch z-1 bottom-auto top-[100%]\" role=\"menu\" tabindex=\"-1\">\\n          \\n              \\n\\n                <li class=\"ellipsis-menu__item border-t-1 border-solid border-color-border-low-emphasis first-of-type:border-none flex\">\\n                  \\n\\n    \\n    \\n\\n    \\n\\n    \\n\\n    <a href=\"/uas/login?fromSignIn=true&amp;session_redirect=https%3A%2F%2Fco.linkedin.com%2Fjobs%2Fview%2Fpower-bi-analyst-at-somewhere-4118165138&amp;trk=public_jobs_ellipsis-menu-semaphore-sign-in-redirect&amp;guestReportContentType=JOB&amp;_f=guest-reporting\" data-tracking-control-name=\"public_jobs_ellipsis-menu-semaphore-sign-in-redirect\" data-tracking-will-navigate data-item-type=\"semaphore\" data-semaphore-content-type=\"JOB\" data-semaphore-content-urn=\"urn:li:jobPosting:4118165138\" data-semaphore-tracking-prefix=\"public_jobs_ellipsis-menu-semaphore\" data-is-logged-in=\"false\" data-modal=\"semaphore__toggle\" class=\"semaphore__toggle visited:text-color-text-secondary ellipsis-menu__semaphore ellipsis-menu__item-button flex items-center w-full p-1 cursor-pointer font-sans text-sm font-bold link-styled focus:link-styled link:no-underline active:bg-color-background-container-tint focus:bg-color-background-container-tint hover:bg-color-background-container-tint outline-offset-[-2px]\">\\n<!---->        \\n                      <icon class=\"ellipsis-menu__item-icon text-color-text h-[24px] w-[24px] mr-1\" data-delayed-url=\"https://static.licdn.com/aero-v1/sc/h/iq0x9q37wj214o129ai1yjut\">\\n                      </icon>\\n                      Report this job\\n                    \\n    </a>\\n\\n<!---->  \\n                </li>\\n<!---->          \\n        </ul>\\n\\n<!---->    </div>\\n  \\n\\n      </div>\\n  \\n\\n<!---->      </div>\\n    </section>\\n  \\n  \\n\\n    <div class=\"decorated-job-posting__details\">\\n<!---->\\n      \\n    \\n    \\n    \\n    \\n    \\n\\n    \\n    <section class=\"core-section-container\\n        my-3 description\">\\n<!---->\\n<!---->\\n<!---->\\n      <div class=\"core-section-container__content break-words\">\\n        \\n      \\n    \\n    \\n\\n      <div class=\"message-the-recruiter\">\\n        <p>Direct message the job poster from Somewhere</p>\\n        \\n    \\n    \\n\\n    \\n    \\n    \\n      <div class=\"base-card relative w-full hover:no-underline focus:no-underline base-card--link base-main-card flex flex-wrap py-2 pr-2 babybear:pr-0\\n        \\n        base-main-card--link\\n        \">\\n        \\n\\n        <a class=\"base-card__full-link absolute top-0 right-0 bottom-0 left-0 p-0 z-[2]\" href=\"https://ph.linkedin.com/in/cj-david-176459235\" data-tracking-control-name=\"public_jobs\" data-tracking-will-navigate>\\n          \\n          <span class=\"sr-only\">\\n              \\n          \\n        CJ David\\n\\n<!---->      \\n      \\n          </span>\\n        </a>\\n\\n      \\n          \\n      <img class=\"inline-block relative\\n          rounded-[50%]\\n          w-6 h-6\\n          \" data-delayed-url=\"https://media.licdn.com/dms/image/v2/D5603AQH2-7Tua8qMFg/profile-displayphoto-shrink_400_400/profile-displayphoto-shrink_400_400/0/1690183134451?e=2147483647&amp;v=beta&amp;t=QO_088bDREGJuNtmiHVtWp9YL9r-pqDgX6QA1MmHA7c\" data-ghost-classes=\"bg-color-entity-ghost-background\" data-ghost-url=\"https://static.licdn.com/aero-v1/sc/h/9c8pery4andzj6ohjkjp54ma2\" alt=\"Click here to view CJ David’s profile\">\\n  \\n\\n        <div class=\"base-main-card__info self-center ml-1 flex-1 relative break-words papabear:min-w-0 mamabear:min-w-0 babybear:w-full\\n            \">\\n<!---->          <h3 class=\"base-main-card__title font-sans text-[18px] font-bold text-color-text overflow-hidden\\n              \\n              \">\\n            \\n        CJ David\\n\\n<!---->      \\n          </h3>\\n          \\n\\n            <h4 class=\"base-main-card__subtitle body-text text-color-text overflow-hidden\\n                \">\\n              \\n        Junior Recruiter at Somewhere\\n      \\n            </h4>\\n\\n<!---->\\n<!----><!---->        </div>\\n\\n          <div class=\"base-main-card__ctas z-[3] self-center ml-3 babybear:ml-1 babybear:self-start\">\\n            \\n        \\n            <a aria-label=\"Message CJ David\" class=\"message-the-recruiter__cta\" href=\"https://www.linkedin.com/login?emailAddress=&amp;fromSignIn=&amp;session_redirect=https%3A%2F%2Fph.linkedin.com%2Fin%2Fcj-david-176459235&amp;trk=public_jobs_message-the-recruiter-cta\" data-tracking-control-name=\"public_jobs_message-the-recruiter-cta\" data-tracking-will-navigate>\\n              <icon class=\"message-the-recruiter__cta-icon\" data-delayed-url=\"https://static.licdn.com/aero-v1/sc/h/em62t8ujch4hqqc45owxy6auu\" data-tracking-will-navigate></icon>\\n            </a>\\n          \\n      \\n          </div>\\n      \\n    \\n      </div>\\n  \\n  \\n  \\n  \\n      </div>\\n  \\n\\n      <div class=\"description__text description__text--rich\">\\n        \\n    \\n    \\n    \\n\\n    <section class=\"show-more-less-html\" data-max-lines=\"5\">\\n        <div class=\"show-more-less-html__markup show-more-less-html__markup--clamp-after-5\\n            relative overflow-hidden\">\\n          <p>Position : <strong>POWER BI BUSINESS ANALYST </strong></p><p>Work Hours : Monday to Friday, overlap of 4 hours for client meetings</p><p>Timezone : EST </p><p>Holidays : May follow the holidays observed in the candidate\\'s home country</p><p>Pay Range : USD 1,500 - 1,800 per month \\u200b(The final offer is at the client\\'s discretion and will be based on the candidate\\'s skills and years of experience.)Rec</p><p>ruitment process: with Assessment\\n\\nC</p><p>o</p><p>m</p><p><strong>pany/Client Overview: Po</strong>wer BI consulting firm\\nRE</p><p>S</p><p>PONSIBILITIES:Mee</p><ul><li>ting with clients to collect and define requirements for financial reporting and planning solutionsBui</li><li>lding aesthetically appealing, accurate, effective financial reporting and planning solutions using Power BI (and the Microsoft Power Platform)Bui</li><li>ld data modeling solutions (in Power BI, Power Query, SQL) to solve client business reporting and planning needsQA </li><li>Testing, analyzing, and troubleshooting Power BI solutions throughout the project lifecycleDem</li><li>onstrating solutions to clients, incorporating feedback from clients, answering client questions, and guiding the client throughout the project lifecycleRec</li><li>onciling data with source databases to ensure accuracy; reconciling calculations and measuresTro</li><li>ubleshooting and managing issues with dashboards and similar tools; providing ongoing support for solutions we provide our customers QU</li></ul><p>A</p><p>LIFICATIONS:4 t</p><ul>o 6 years of relevant experienceProficient in Power BI, DAX, SQL, and Data Modeling.Strong understanding of how businesses analyze cash flow, income statements, and balance sheets.Familiarity with financial reporting and its alignment with business objectives.\\n        </div>\\n\\n        \\n\\n    \\n    \\n    \\n\\n    <button class=\"show-more-less-html__button show-more-less-button\\n        show-more-less-html__button--more\\n        ml-0.5\" data-tracking-control-name=\"public_jobs_show-more-html-btn\" aria-label=\"i18n_show_more\" aria-expanded=\"false\">\\n<!---->\\n        \\n            Show more\\n          \\n\\n          <icon class=\"show-more-less-html__button-icon show-more-less-button-icon\" data-delayed-url=\"https://static.licdn.com/aero-v1/sc/h/cyolgscd0imw2ldqppkrb84vo\"></icon>\\n    </button>\\n  \\n\\n        \\n\\n    \\n    \\n    \\n\\n    <button class=\"show-more-less-html__button show-more-less-button\\n        show-more-less-html__button--less\\n        ml-0.5\" data-tracking-control-name=\"public_jobs_show-less-html-btn\" aria-label=\"i18n_show_less\" aria-expanded=\"true\">\\n<!---->\\n        \\n            Show less\\n          \\n\\n          <icon class=\"show-more-less-html__button-icon show-more-less-button-icon\" data-delayed-url=\"https://static.licdn.com/aero-v1/sc/h/4chtt12k98xwnba1nimld2oyg\"></icon>\\n    </button>\\n  \\n<!---->    </section>\\n  \\n      </div>\\n\\n      <ul class=\"description__job-criteria-list\">\\n        <li class=\"description__job-criteria-item\">\\n          <h3 class=\"description__job-criteria-subheader\">\\n            Seniority level\\n          </h3>\\n          <span class=\"description__job-criteria-text description__job-criteria-text--criteria\">\\n            Mid-Senior level\\n          </span>\\n        </li>\\n        <li class=\"description__job-criteria-item\">\\n          <h3 class=\"description__job-criteria-subheader\">\\n            Employment type\\n          </h3>\\n          <span class=\"description__job-criteria-text description__job-criteria-text--criteria\">\\n            Full-time\\n          </span>\\n        </li>\\n          <li class=\"description__job-criteria-item\">\\n            <h3 class=\"description__job-criteria-subheader\">\\n              Job function\\n            </h3>\\n            <span class=\"description__job-criteria-text description__job-criteria-text--criteria\">\\n              Analyst\\n            </span>\\n          </li>\\n          <li class=\"description__job-criteria-item\">\\n            <h3 class=\"description__job-criteria-subheader\">\\n              Industries\\n            </h3>\\n            <span class=\"description__job-criteria-text description__job-criteria-text--criteria\">\\n            Information Services\\n            </span>\\n          </li>\\n      </ul>\\n    \\n      </div>\\n    </section>\\n  \\n  \\n\\n        \\n    \\n\\n    \\n\\n      \\n    <section class=\"core-section-container\\n        my-3 find-a-referral\">\\n<!---->\\n<!---->\\n<!---->\\n      <div class=\"core-section-container__content break-words\">\\n        \\n        \\n      \\n    \\n      <div class=\"face-pile flex !no-underline\">\\n        \\n      <div class=\"face-pile__images-container self-start flex-shrink-0 mr-1 leading-[1]\">\\n          \\n      <img class=\"inline-block relative\\n          rounded-[50%]\\n          w-4 h-4\\n           face-pile__image border-1 border-solid border-color-transparent -ml-2 first:ml-0\" data-delayed-url=\"https://static.licdn.com/aero-v1/sc/h/f59g007xgl5h0it32h5hhxjdy\" data-ghost-classes=\"bg-color-entity-ghost-background\" data-ghost-url=\"https://static.licdn.com/aero-v1/sc/h/9c8pery4andzj6ohjkjp54ma2\" alt>\\n  \\n          \\n      <img class=\"inline-block relative\\n          rounded-[50%]\\n          w-4 h-4\\n           face-pile__image border-1 border-solid border-color-transparent -ml-2 first:ml-0\" data-delayed-url=\"https://static.licdn.com/aero-v1/sc/h/397yg3cgl0og467qsytafbsj\" data-ghost-classes=\"bg-color-entity-ghost-background\" data-ghost-url=\"https://static.licdn.com/aero-v1/sc/h/9c8pery4andzj6ohjkjp54ma2\" alt>\\n  \\n          \\n      <img class=\"inline-block relative\\n          rounded-[50%]\\n          w-4 h-4\\n           face-pile__image border-1 border-solid border-color-transparent -ml-2 first:ml-0\" data-delayed-url=\"https://static.licdn.com/aero-v1/sc/h/3akw2yuev7ctin9topahifmhg\" data-ghost-classes=\"bg-color-entity-ghost-background\" data-ghost-url=\"https://static.licdn.com/aero-v1/sc/h/9c8pery4andzj6ohjkjp54ma2\" alt>\\n  \\n      </div>\\n        \\n          \\n            <div class=\"find-a-referral__cta-container\">\\n              <p>Referrals increase your chances of interviewing at Somewhere by 2x</p>\\n              <a class=\"find-a-referral__cta\" href=\"https://www.linkedin.com/login?session_redirect=https%3A%2F%2Fwww%2Elinkedin%2Ecom%2Fsearch%2Fresults%2Fpeople%2F%3FfacetCurrentCompany%3D1810488&amp;emailAddress=&amp;fromSignIn=&amp;trk=public_jobs_find-a-referral-cta\" data-impression-id=\"public_jobs_find-a-referral-cta\" data-tracking-control-name=\"public_jobs_find-a-referral-cta\" data-tracking-will-navigate>\\n                See who you know\\n              </a>\\n            </div>\\n          \\n        \\n    \\n      </div>\\n  \\n  \\n  \\n      \\n      </div>\\n    </section>\\n  \\n  \\n\\n<!---->    </div>\\n\\n<!---->\\n<!---->\\n    <code id=\"decoratedJobPostingId\" style=\"display: none\"><!--\"4118165138\"--></code>\\n      <code id=\"referenceId\" style=\"display: none\"><!--\"UlwI+C7MSPiNN7uVD9zh7g==\"--></code>\\n    <code id=\"joinUrlWithRedirect\" style=\"display: none\"><!--\"https://www.linkedin.com/signup/cold-join?source=jobs_registration&session_redirect=https%3A%2F%2Fco.linkedin.com%2Fjobs%2Fview%2Fpower-bi-analyst-at-somewhere-4118165138&trk=public_jobs_save-job\"--></code>\\n  \\n  '"
      ]
     },
     "execution_count": 13,
     "metadata": {},
     "output_type": "execute_result"
    }
   ],
   "source": [
    "job_response.text"
   ]
  },
  {
   "cell_type": "code",
   "execution_count": 15,
   "metadata": {},
   "outputs": [
    {
     "ename": "TypeError",
     "evalue": "'list' object is not callable",
     "output_type": "error",
     "traceback": [
      "\u001b[1;31m---------------------------------------------------------------------------\u001b[0m",
      "\u001b[1;31mTypeError\u001b[0m                                 Traceback (most recent call last)",
      "Cell \u001b[1;32mIn[15], line 1\u001b[0m\n\u001b[1;32m----> 1\u001b[0m \u001b[38;5;28mprint\u001b[39m(\u001b[43mjob_list\u001b[49m\u001b[43m(\u001b[49m\u001b[43m)\u001b[49m)\n",
      "\u001b[1;31mTypeError\u001b[0m: 'list' object is not callable"
     ]
    }
   ],
   "source": [
    "print(job_list())"
   ]
  },
  {
   "cell_type": "markdown",
   "metadata": {},
   "source": [
    "import requests\n",
    "from bs4 import BeautifulSoup\n",
    "\n",
    "job_list = []\n",
    "\n",
    "for job_id in id_list: \n",
    "    job_url = f\"https://www.linkedin.com/jobs-guest/jobs/api/jobPosting/%7Bjob_id%7D\" \n",
    "    job_response = requests.get(job_url)\n",
    "    print(f\"Job ID: {job_id}, Status Code: {job_response.status_code}\")\n",
    "\n",
    "    if job_response.status_code != 200:\n",
    "        print(f\"Failed to fetch job details for ID {job_id}\")\n",
    "        continue  # Salta al siguiente ID si hay un error en la solicitud\n",
    "\n",
    "    job_soup = BeautifulSoup(job_response.text, \"html.parser\")\n",
    "    job_post = {}\n",
    "\n",
    "\n",
    "    company_name_tag = job_soup.find(\"a\", {\"class\": \"topcardorg-name-link topcardflavor--black-link\"})\n",
    "    if company_name_tag:\n",
    "        job_post[\"company_name\"] = company_name_tag.text.strip()\n",
    "    else:\n",
    "        # Probar con un selector alternativo\n",
    "        company_name_tag = job_soup.find(\"span\", {\"class\": \"topcard__flavor\"})\n",
    "        job_post[\"company_name\"] = company_name_tag.text.strip() if company_name_tag else \"Company name not found\"\n",
    "\n",
    "    job_list.append(job_post)\n",
    "\n",
    "print(job_list) "
   ]
  },
  {
   "cell_type": "code",
   "execution_count": 15,
   "metadata": {},
   "outputs": [
    {
     "name": "stdout",
     "output_type": "stream",
     "text": [
      "Requirement already satisfied: openpyxl in c:\\users\\laura\\appdata\\local\\packages\\pythonsoftwarefoundation.python.3.11_qbz5n2kfra8p0\\localcache\\local-packages\\python311\\site-packages (3.1.5)\n",
      "Requirement already satisfied: et-xmlfile in c:\\users\\laura\\appdata\\local\\packages\\pythonsoftwarefoundation.python.3.11_qbz5n2kfra8p0\\localcache\\local-packages\\python311\\site-packages (from openpyxl) (2.0.0)\n",
      "Note: you may need to restart the kernel to use updated packages.\n"
     ]
    },
    {
     "name": "stderr",
     "output_type": "stream",
     "text": [
      "\n",
      "[notice] A new release of pip is available: 24.0 -> 24.3.1\n",
      "[notice] To update, run: C:\\Users\\Laura\\AppData\\Local\\Microsoft\\WindowsApps\\PythonSoftwareFoundation.Python.3.11_qbz5n2kfra8p0\\python.exe -m pip install --upgrade pip\n"
     ]
    }
   ],
   "source": [
    "#pip install openpyxl\n"
   ]
  },
  {
   "cell_type": "code",
   "execution_count": 46,
   "metadata": {},
   "outputs": [
    {
     "name": "stdout",
     "output_type": "stream",
     "text": [
      "Se han guardado los resultados en LinkedIn_Recent_Jobs.xlsx\n"
     ]
    }
   ],
   "source": [
    "import requests\n",
    "from bs4 import BeautifulSoup\n",
    "import pandas as pd\n",
    "\n",
    "# List to store job information\n",
    "job_list = []\n",
    "\n",
    "# Loop through the list of job IDs and get each URL\n",
    "for job_id in id_list:\n",
    "    # URL for the job posting\n",
    "    job_url_api = f\"https://www.linkedin.com/jobs-guest/jobs/api/jobPosting/{job_id}\"\n",
    "    job_url_decent = f\"https://www.linkedin.com/jobs/view/{job_id}\"  # Enlace limpio\n",
    "\n",
    "    # Request the job details\n",
    "    job_response = requests.get(job_url_api)\n",
    "    if job_response.status_code != 200:\n",
    "        continue  # Skip if the request fails\n",
    "\n",
    "    # Parse the job details\n",
    "    job_soup = BeautifulSoup(job_response.text, \"html.parser\")\n",
    "    job_post = {\"job_url\": job_url_decent}  # Include the clean URL\n",
    "    \n",
    "    # Extract job details\n",
    "    try:\n",
    "        job_post[\"job_title\"] = job_soup.find(\"h2\", {\"class\": \"topcard__title\"}).text.strip()\n",
    "    except AttributeError:\n",
    "        job_post[\"job_title\"] = None\n",
    "\n",
    "    try:\n",
    "        job_post[\"company_name\"] = job_soup.find(\"a\", {\"class\": \"topcard__org-name-link\"}).text.strip()\n",
    "    except AttributeError:\n",
    "        job_post[\"company_name\"] = None\n",
    "\n",
    "    try:\n",
    "        job_post[\"rubro\"] = job_soup.find(\"span\", {\"class\": \"description__job-criteria-text\"}).text.strip()\n",
    "    except AttributeError:\n",
    "        job_post[\"rubro\"] = None\n",
    "\n",
    "    try:\n",
    "        job_post[\"time_posted\"] = job_soup.find(\"span\", {\"class\": \"posted-time-ago__text\"}).text.strip()\n",
    "    except AttributeError:\n",
    "        job_post[\"time_posted\"] = None\n",
    "\n",
    "    try:\n",
    "        job_post[\"num_applicants\"] = job_soup.find(\"span\", {\"class\": \"num-applicants__caption\"}).text.strip()\n",
    "    except AttributeError:\n",
    "        job_post[\"num_applicants\"] = None\n",
    "\n",
    "    # Recruiter details\n",
    "    try:\n",
    "        recruiter_tag = job_soup.find(\"a\", {\"class\": \"base-card__full-link\"})\n",
    "        job_post[\"recruiter_name\"] = recruiter_tag.text.strip()\n",
    "        job_post[\"recruiter_link\"] = recruiter_tag.get(\"href\")\n",
    "    except AttributeError:\n",
    "        job_post[\"recruiter_name\"] = None\n",
    "        job_post[\"recruiter_link\"] = None\n",
    "\n",
    "    job_list.append(job_post)\n",
    "\n",
    "# Sort by \"time_posted\" and limit to 30\n",
    "job_list = sorted(job_list, key=lambda x: x[\"time_posted\"] or \"\", reverse=True)[:30]\n",
    "\n",
    "# Save to Excel\n",
    "jobs_df = pd.DataFrame(job_list)\n",
    "jobs_df.to_excel(\"LinkedIn_Recent_Jobs.xlsx\", index=False, engine=\"openpyxl\")\n",
    "\n",
    "print(\"Se han guardado los resultados en LinkedIn_Recent_Jobs.xlsx\")\n"
   ]
  }
 ],
 "metadata": {
  "kernelspec": {
   "display_name": "Python 3",
   "language": "python",
   "name": "python3"
  },
  "language_info": {
   "codemirror_mode": {
    "name": "ipython",
    "version": 3
   },
   "file_extension": ".py",
   "mimetype": "text/x-python",
   "name": "python",
   "nbconvert_exporter": "python",
   "pygments_lexer": "ipython3",
   "version": "3.11.9"
  }
 },
 "nbformat": 4,
 "nbformat_minor": 2
}
